{
  "nbformat": 4,
  "nbformat_minor": 0,
  "metadata": {
    "colab": {
      "name": "Day3-python-Assignment1.ipynb",
      "provenance": [],
      "collapsed_sections": []
    },
    "kernelspec": {
      "name": "python3",
      "display_name": "Python 3"
    }
  },
  "cells": [
    {
      "cell_type": "code",
      "metadata": {
        "id": "TXRJPvvLs4Up",
        "colab_type": "code",
        "colab": {
          "base_uri": "https://localhost:8080/",
          "height": 51
        },
        "outputId": "03019ad1-dae6-4e81-83bd-22a8b91cd030"
      },
      "source": [
        "altitude = input(\"Give the Altitude -\")\n",
        "\n",
        "altitude = int(altitude)\n",
        "\n",
        "if altitude <= 1000:\n",
        "  print(\"pilot safe to land\")\n",
        "elif altitude >1000 and altitude < 5000:\n",
        "  print(\"Bring down to 1000\")\n",
        "elif altitude > 5000:\n",
        "  print(\"Go around and try later\")    "
      ],
      "execution_count": 5,
      "outputs": [
        {
          "output_type": "stream",
          "text": [
            "Give the Altitude -4500\n",
            "Bring down to 1000\n"
          ],
          "name": "stdout"
        }
      ]
    }
  ]
}